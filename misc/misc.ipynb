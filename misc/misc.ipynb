{
 "cells": [
  {
   "cell_type": "markdown",
   "metadata": {},
   "source": [
    "## Misc"
   ]
  },
  {
   "cell_type": "code",
   "execution_count": 19,
   "metadata": {},
   "outputs": [],
   "source": [
    "f = open('../2020-Summer/data1.txt', 'wb')\n",
    "for i in range(54):\n",
    "    f.write((65).to_bytes(1,'big'))\n",
    "f.close()"
   ]
  },
  {
   "cell_type": "code",
   "execution_count": 22,
   "metadata": {},
   "outputs": [],
   "source": [
    "f = open('../2020-Summer/data2.bin', 'wb')\n",
    "f.write((41).to_bytes(1,'big'))\n",
    "f.write((42).to_bytes(1,'big'))\n",
    "f.write((43).to_bytes(1,'big'))\n",
    "f.write((44).to_bytes(1,'big'))\n",
    "f.write((45).to_bytes(1,'big'))\n",
    "f.write((46).to_bytes(1,'big'))\n",
    "f.write((47).to_bytes(1,'big'))\n",
    "f.write((0).to_bytes(1,'big'))\n",
    "f.write((6).to_bytes(1,'big'))\n",
    "f.write((5).to_bytes(1,'big'))\n",
    "f.write((0).to_bytes(1,'big'))\n",
    "f.write((0).to_bytes(1,'big'))\n",
    "f.write((0).to_bytes(1,'big'))\n",
    "f.write((0).to_bytes(1,'big'))\n",
    "f.write((8).to_bytes(1,'big'))\n",
    "f.write((4).to_bytes(1,'big'))\n",
    "f.write((48).to_bytes(1,'big'))\n",
    "f.close()"
   ]
  },
  {
   "cell_type": "code",
   "execution_count": 28,
   "metadata": {},
   "outputs": [],
   "source": [
    "dct = 'plmoknij buhvygctfxrdz.esawq'\n",
    "txt = \"i have no idea what is your problem so please help me\"\n",
    "\n",
    "with open('../2020-Summer/data4.txt', 'w') as f:\n",
    "    for c in txt:\n",
    "        if c.isalpha():\n",
    "            f.write(dct[ord(c.lower())-ord('a')])\n",
    "        elif c == ' ':\n",
    "            f.write(dct[-2])\n",
    "        elif c == '.': # is a period\n",
    "            f.write(dct[-1:])"
   ]
  },
  {
   "cell_type": "code",
   "execution_count": 3,
   "metadata": {},
   "outputs": [
    {
     "name": "stdout",
     "output_type": "stream",
     "text": [
      "ab\n"
     ]
    }
   ],
   "source": [
    "s = \"abcd\"\n",
    "print(s[0:2])"
   ]
  },
  {
   "cell_type": "code",
   "execution_count": 34,
   "metadata": {},
   "outputs": [
    {
     "name": "stdout",
     "output_type": "stream",
     "text": [
      "67108864.0\n",
      "1103527590\n",
      "29785766.0\n",
      "41857256.0\n",
      "True\n",
      "41857256.0\n"
     ]
    }
   ],
   "source": [
    "import math\n",
    "\n",
    "p2 = math.pow(2,26)\n",
    "sum_p = 12345 * (1103515245^2-1) / (1103515245 - 1)\n",
    "print(p2)\n",
    "print(1103515245 + 12345)\n",
    "print((1103515245 + 12345) % math.pow(2,26))\n",
    "print((1103515245*29785766.0 + 12345)% math.pow(2,26))\n",
    "print(sum_p == 12345)\n",
    "print((1103515245*29785766.0 + sum_p)% p2)"
   ]
  },
  {
   "cell_type": "code",
   "execution_count": 13,
   "metadata": {},
   "outputs": [
    {
     "name": "stdout",
     "output_type": "stream",
     "text": [
      "abs\n",
      "1\n"
     ]
    }
   ],
   "source": [
    "a = \"(abs)\"\n",
    "print(a[1:-1])\n",
    "\n",
    "print(min(1, 2, 3))\n",
    "if min(1, 2, 3) > 3:\n",
    "    print(\"NO\")"
   ]
  },
  {
   "cell_type": "code",
   "execution_count": 5,
   "metadata": {},
   "outputs": [
    {
     "name": "stdout",
     "output_type": "stream",
     "text": [
      "8.660254037844386 8.660254037844387\n",
      "43.301270189221924\n"
     ]
    }
   ],
   "source": [
    "import math\n",
    "\n",
    "side = 10\n",
    "height_1 = math.sqrt(3)*side /2\n",
    "height_2 = math.sqrt(math.pow(side,2) - math.pow(side/2,2))\n",
    "\n",
    "print(height_1, height_2)\n",
    "print(side*height_1/2)"
   ]
  },
  {
   "cell_type": "code",
   "execution_count": 10,
   "metadata": {},
   "outputs": [
    {
     "name": "stdout",
     "output_type": "stream",
     "text": [
      "1200000\n"
     ]
    }
   ],
   "source": [
    "a = '12'\n",
    "b = '0' * 5\n",
    "n = a + b\n",
    "print(n)"
   ]
  },
  {
   "cell_type": "code",
   "execution_count": 11,
   "metadata": {},
   "outputs": [
    {
     "name": "stdout",
     "output_type": "stream",
     "text": [
      "810000000000 810000000000\n"
     ]
    }
   ],
   "source": [
    "e1 = 9\n",
    "e2 = 9\n",
    "\n",
    "a_r = int(e1) * int(e2)\n",
    "zeros = '0' * (10)\n",
    "a_r_s = str(a_r) + zeros\n",
    "\n",
    "b_r = math.floor(int(e1)*int(e2)*math.pow(10,10))\n",
    "b_r_s = str(b_r)\n",
    "\n",
    "print(a_r_s, b_r_s)"
   ]
  },
  {
   "cell_type": "markdown",
   "metadata": {},
   "source": [
    "## Numpy"
   ]
  },
  {
   "cell_type": "code",
   "execution_count": 7,
   "metadata": {},
   "outputs": [],
   "source": [
    "import numpy as np"
   ]
  },
  {
   "cell_type": "code",
   "execution_count": 11,
   "metadata": {},
   "outputs": [
    {
     "name": "stdout",
     "output_type": "stream",
     "text": [
      "[[0 1]\n",
      " [1 0]\n",
      " [1 1]] 3\n",
      "1 4 2 4\n"
     ]
    }
   ],
   "source": [
    "# a = np.random.randint(low=0,high=30,size=(3,2))\n",
    "a = np.array([[0,1], [1,0], [1,1]])\n",
    "print(a, np.size(a, axis=0))\n",
    "\n",
    "x_axis = a[:,0]\n",
    "y_axis = a[:,1]\n",
    "multi_xy = x_axis * y_axis\n",
    "x_sqr = x_axis ** 2\n",
    "\n",
    "print( np.sum(multi_xy), np.sum(x_axis) * np.sum(y_axis), np.sum(x_sqr), np.sum(x_axis)**2)"
   ]
  },
  {
   "cell_type": "code",
   "execution_count": 19,
   "metadata": {},
   "outputs": [
    {
     "name": "stdout",
     "output_type": "stream",
     "text": [
      "[[ 5 16]]\n"
     ]
    }
   ],
   "source": [
    "b = np.array([[1,10], [2,11], [5,16]])\n",
    "p_1 = b[(b[:,0] < 4)]\n",
    "print(p_1)"
   ]
  },
  {
   "cell_type": "code",
   "execution_count": 8,
   "metadata": {},
   "outputs": [
    {
     "name": "stdout",
     "output_type": "stream",
     "text": [
      "0.0\n"
     ]
    }
   ],
   "source": [
    "a = np.float32(0)\n",
    "print(a)"
   ]
  },
  {
   "cell_type": "code",
   "execution_count": 17,
   "metadata": {},
   "outputs": [
    {
     "name": "stdout",
     "output_type": "stream",
     "text": [
      "(1025, 1600, 4) 1025 1600 4\n",
      "[150 150 150 255]\n"
     ]
    }
   ],
   "source": [
    "from matplotlib import image\n",
    "\n",
    "img = image.imread('image2.bmp')\n",
    "print(img.shape, len(img), len(img[0]), len(img[0][0]))\n",
    "print(img[0,0])\n",
    "with open('image2.txt', 'w') as f:\n",
    "    for i in range(img.shape[0]):\n",
    "        for j in range(img.shape[1]):\n",
    "            for k in range(min(img.shape[2],3)):\n",
    "                f.write(f\"{int(img[i,j,k])} \")\n"
   ]
  }
 ],
 "metadata": {
  "interpreter": {
   "hash": "916dbcbb3f70747c44a77c7bcd40155683ae19c65e1c03b4aa3499c5328201f1"
  },
  "kernelspec": {
   "display_name": "Python 3.8.10 64-bit",
   "language": "python",
   "name": "python3"
  },
  "language_info": {
   "codemirror_mode": {
    "name": "ipython",
    "version": 3
   },
   "file_extension": ".py",
   "mimetype": "text/x-python",
   "name": "python",
   "nbconvert_exporter": "python",
   "pygments_lexer": "ipython3",
   "version": "3.8.10"
  },
  "orig_nbformat": 4
 },
 "nbformat": 4,
 "nbformat_minor": 2
}
